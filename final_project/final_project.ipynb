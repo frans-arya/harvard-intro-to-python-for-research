{
 "cells": [
  {
   "cell_type": "code",
   "execution_count": 3,
   "metadata": {},
   "outputs": [
    {
     "name": "stdout",
     "output_type": "stream",
     "text": [
      "C:\\Users\\LENOVO\n"
     ]
    }
   ],
   "source": [
    "cd"
   ]
  },
  {
   "cell_type": "code",
   "execution_count": 4,
   "metadata": {},
   "outputs": [
    {
     "name": "stdout",
     "output_type": "stream",
     "text": [
      "C:\\Users\\LENOVO\\harvard introduction to python for research\n"
     ]
    }
   ],
   "source": [
    "cd harvard introduction to python for research"
   ]
  },
  {
   "cell_type": "code",
   "execution_count": 5,
   "metadata": {},
   "outputs": [
    {
     "name": "stdout",
     "output_type": "stream",
     "text": [
      "C:\\Users\\LENOVO\\harvard introduction to python for research\\Final_Project\n"
     ]
    }
   ],
   "source": [
    "cd Final_Project\n"
   ]
  },
  {
   "cell_type": "code",
   "execution_count": 2,
   "metadata": {},
   "outputs": [
    {
     "name": "stderr",
     "output_type": "stream",
     "text": [
      "C:\\Users\\LENOVO\\Anaconda3\\lib\\site-packages\\sklearn\\ensemble\\weight_boosting.py:29: DeprecationWarning: numpy.core.umath_tests is an internal NumPy module and should not be imported. It will be removed in a future NumPy release.\n",
      "  from numpy.core.umath_tests import inner1d\n"
     ]
    }
   ],
   "source": [
    "import pandas as pd\n",
    "import numpy as np\n",
    "import time\n",
    "from sklearn.model_selection import cross_val_score\n",
    "from sklearn.linear_model import LinearRegression\n",
    "from sklearn.linear_model import LogisticRegression\n",
    "from sklearn.ensemble import RandomForestRegressor\n",
    "from sklearn.ensemble import RandomForestClassifier\n",
    "from sklearn.metrics import accuracy_score\n",
    "from sklearn.metrics import r2_score\n",
    "from sklearn.svm import SVC \n",
    "from sklearn.neighbors import KNeighborsClassifier\n",
    "from sklearn.naive_bayes import GaussianNB\n",
    "\n",
    "import matplotlib.pyplot as plt"
   ]
  },
  {
   "cell_type": "code",
   "execution_count": 3,
   "metadata": {},
   "outputs": [],
   "source": [
    "df = pd.read_csv(\"train_time_series.csv\", index_col = 0)\n",
    "labels = pd.read_csv(\"train_labels.csv\", index_col = 0)\n",
    "#add label column from labels to df\n",
    "df[\"label\"] = labels[\"label\"]"
   ]
  },
  {
   "cell_type": "code",
   "execution_count": 212,
   "metadata": {},
   "outputs": [],
   "source": [
    "#Steps in this Final Project:\n",
    "\n",
    "#1. Train data import and smoothing\n",
    "\n",
    "#import train data\n",
    "#because the data is noisy (we can see by plotting x,y, and z), we will smooth train data using moving average of n window\n",
    "#before that we will add the train labes into the train data, add column of avg. value of xyz,\n",
    "#then we will drop na values and store as df_clean\n",
    "#after that we will check correlation of avg. xyz vs. labels in the df, iterate values of n to give the largest correlation\n",
    "\n",
    "\n",
    "#2. Choose our classification models based on accuracy\n",
    "#check accuracy of classification models, choose classification models\n",
    "\n",
    "\n",
    "#3. Import and smooth test data\n",
    "#import test data\n",
    "#smooth test data using moving average of len(testdata) * n / len(traindata) to presumably give highest correlation \n",
    "#between test labels and test xyz values\n",
    "\n",
    "\n",
    "#4 fit model on test data"
   ]
  },
  {
   "cell_type": "code",
   "execution_count": 113,
   "metadata": {},
   "outputs": [
    {
     "data": {
      "text/html": [
       "<div>\n",
       "<style scoped>\n",
       "    .dataframe tbody tr th:only-of-type {\n",
       "        vertical-align: middle;\n",
       "    }\n",
       "\n",
       "    .dataframe tbody tr th {\n",
       "        vertical-align: top;\n",
       "    }\n",
       "\n",
       "    .dataframe thead th {\n",
       "        text-align: right;\n",
       "    }\n",
       "</style>\n",
       "<table border=\"1\" class=\"dataframe\">\n",
       "  <thead>\n",
       "    <tr style=\"text-align: right;\">\n",
       "      <th></th>\n",
       "      <th>timestamp</th>\n",
       "      <th>x</th>\n",
       "      <th>y</th>\n",
       "      <th>z</th>\n",
       "      <th>avgxyz</th>\n",
       "      <th>label</th>\n",
       "    </tr>\n",
       "  </thead>\n",
       "  <tbody>\n",
       "    <tr>\n",
       "      <th>timestamp</th>\n",
       "      <td>1.000000</td>\n",
       "      <td>0.282007</td>\n",
       "      <td>-0.215823</td>\n",
       "      <td>-0.344453</td>\n",
       "      <td>-0.031185</td>\n",
       "      <td>0.126867</td>\n",
       "    </tr>\n",
       "    <tr>\n",
       "      <th>x</th>\n",
       "      <td>0.282007</td>\n",
       "      <td>1.000000</td>\n",
       "      <td>0.298336</td>\n",
       "      <td>0.374964</td>\n",
       "      <td>0.820709</td>\n",
       "      <td>0.550883</td>\n",
       "    </tr>\n",
       "    <tr>\n",
       "      <th>y</th>\n",
       "      <td>-0.215823</td>\n",
       "      <td>0.298336</td>\n",
       "      <td>1.000000</td>\n",
       "      <td>0.572264</td>\n",
       "      <td>0.718841</td>\n",
       "      <td>0.363516</td>\n",
       "    </tr>\n",
       "    <tr>\n",
       "      <th>z</th>\n",
       "      <td>-0.344453</td>\n",
       "      <td>0.374964</td>\n",
       "      <td>0.572264</td>\n",
       "      <td>1.000000</td>\n",
       "      <td>0.770942</td>\n",
       "      <td>0.417592</td>\n",
       "    </tr>\n",
       "    <tr>\n",
       "      <th>avgxyz</th>\n",
       "      <td>-0.031185</td>\n",
       "      <td>0.820709</td>\n",
       "      <td>0.718841</td>\n",
       "      <td>0.770942</td>\n",
       "      <td>1.000000</td>\n",
       "      <td>0.595132</td>\n",
       "    </tr>\n",
       "    <tr>\n",
       "      <th>label</th>\n",
       "      <td>0.126867</td>\n",
       "      <td>0.550883</td>\n",
       "      <td>0.363516</td>\n",
       "      <td>0.417592</td>\n",
       "      <td>0.595132</td>\n",
       "      <td>1.000000</td>\n",
       "    </tr>\n",
       "  </tbody>\n",
       "</table>\n",
       "</div>"
      ],
      "text/plain": [
       "           timestamp         x         y         z    avgxyz     label\n",
       "timestamp   1.000000  0.282007 -0.215823 -0.344453 -0.031185  0.126867\n",
       "x           0.282007  1.000000  0.298336  0.374964  0.820709  0.550883\n",
       "y          -0.215823  0.298336  1.000000  0.572264  0.718841  0.363516\n",
       "z          -0.344453  0.374964  0.572264  1.000000  0.770942  0.417592\n",
       "avgxyz     -0.031185  0.820709  0.718841  0.770942  1.000000  0.595132\n",
       "label       0.126867  0.550883  0.363516  0.417592  0.595132  1.000000"
      ]
     },
     "execution_count": 113,
     "metadata": {},
     "output_type": "execute_result"
    }
   ],
   "source": [
    "#we find by trial and error that using window average values of 115 gives us the highest correlation\n",
    "#between avgxyz and label (0.595)\n",
    "windowavg = 115\n",
    "df_clean = pd.DataFrame({'timestamp': df['timestamp'], 'UTC time': df['UTC time'],'accuracy': df['accuracy'],\\\n",
    "                         'x': df['x'].rolling(windowavg, min_periods = 1).mean(),\\\n",
    "                         'y': df['y'].rolling(windowavg, min_periods = 1).mean(), \\\n",
    "                         'z': df['z'].rolling(windowavg, min_periods = 1).mean(),\\\n",
    "                        })\n",
    "df_clean['avgxyz'] = df_clean.apply(lambda row: (row.x+row.y+row.z)/3, axis = 1)\n",
    "df_clean['label'] = labels['label']\n",
    "df_clean = df_clean.dropna(how = 'any')\n",
    "df_clean.corr()"
   ]
  },
  {
   "cell_type": "code",
   "execution_count": 191,
   "metadata": {},
   "outputs": [],
   "source": [
    "def accuracy(estimator, X, y):\n",
    "    predictions = estimator.fit(X, y).predict(X)\n",
    "    return accuracy_score(y, predictions)\n",
    "\n",
    "\n"
   ]
  },
  {
   "cell_type": "code",
   "execution_count": 221,
   "metadata": {},
   "outputs": [
    {
     "name": "stdout",
     "output_type": "stream",
     "text": [
      "logistic regression score:  [0.52380952 0.52380952 0.52380952 0.52380952 0.52380952 0.52380952\n",
      " 0.52380952 0.57894737 0.61111111 0.61111111 0.61111111 0.61111111\n",
      " 0.61111111 0.58823529 0.58823529 0.58823529 0.58823529 0.58823529\n",
      " 0.58823529 0.58823529]\n",
      "forest classification score:  [1.         1.         1.         1.         1.         1.\n",
      " 0.95238095 1.         1.         1.         1.         1.\n",
      " 1.         0.94117647 1.         1.         1.         1.\n",
      " 1.         1.        ]\n",
      "svm score:  [0.52380952 0.52380952 0.52380952 0.52380952 0.52380952 0.52380952\n",
      " 0.52380952 0.57894737 0.61111111 0.61111111 0.61111111 0.61111111\n",
      " 0.61111111 0.58823529 0.58823529 0.58823529 0.58823529 0.58823529\n",
      " 0.58823529 0.58823529]\n",
      "knn score:  [1.         0.85714286 0.95238095 0.95238095 0.9047619  1.\n",
      " 0.95238095 0.94736842 0.83333333 0.83333333 0.83333333 0.88888889\n",
      " 0.77777778 0.70588235 0.82352941 0.88235294 0.82352941 0.82352941\n",
      " 0.88235294 0.70588235]\n",
      "gnb score:  [1.         1.         0.95238095 1.         0.95238095 1.\n",
      " 0.95238095 1.         1.         0.88888889 1.         1.\n",
      " 1.         0.94117647 1.         1.         1.         1.\n",
      " 1.         0.94117647]\n"
     ]
    }
   ],
   "source": [
    "classification_outcome = df_clean['label']\n",
    "covariates = df_clean[['x', 'y', 'z']]\n",
    "\n",
    "#different classification models declared\n",
    "logistic_regression = LogisticRegression()\n",
    "forest_classifier = RandomForestClassifier(max_depth = 4, random_state=0)\n",
    "svm_model_linear = SVC(kernel = 'linear', C = 1)\n",
    "knn = KNeighborsClassifier(n_neighbors = 4) \n",
    "gnb = GaussianNB() #naive-bayesian classifier\n",
    "\n",
    "#find the score for each model\n",
    "logistic_regression_scores = cross_val_score(logistic_regression, covariates, classification_outcome, cv=20, scoring=accuracy)\n",
    "forest_classification_scores = cross_val_score(forest_classifier, covariates, classification_outcome, cv=20, scoring=accuracy)\n",
    "svm_scores = cross_val_score(svm_model_linear, covariates, classification_outcome, cv=20, scoring=accuracy)\n",
    "knn_scores = cross_val_score(knn, covariates, classification_outcome, cv=20, scoring=accuracy)\n",
    "gnb_scores = cross_val_score(gnb, covariates, classification_outcome, cv=20, scoring=accuracy)\n",
    "\n",
    "#check accuracy of each model\n",
    "print(\"logistic regression score: \", logistic_regression_scores)\n",
    "print(\"forest classification score: \", forest_classification_scores)\n",
    "print(\"svm score: \", svm_scores)\n",
    "print(\"knn score: \", knn_scores)\n",
    "print(\"gnb score: \",gnb_scores)\n",
    "\n",
    "#we can see from the scores that forest classifier seems to overfit the train data, and later\n",
    "#after plotting the results it seems that the naive bayesian classifier seems to filter out the noise best\n",
    "#therefore we choose naive bayesian as our classifier\n"
   ]
  },
  {
   "cell_type": "code",
   "execution_count": 237,
   "metadata": {},
   "outputs": [
    {
     "name": "stdout",
     "output_type": "stream",
     "text": [
      "--- 0.023984432220458984 seconds ---\n"
     ]
    }
   ],
   "source": [
    "start_time = time.time()\n",
    "#import test data\n",
    "testdata = pd.read_csv(\"test_time_series.csv\", index_col = 0)\n",
    "test_labels = pd.read_csv(\"test_labels.csv\", index_col = 0)\n",
    "\n",
    "#assume that the best ratio of window average to the number of obervations for train data will work for test data as well \n",
    "testwindowavg = round(len(testdata) * windowavg / len(df))\n",
    "\n",
    "testdatasmooth = pd.DataFrame({'timestamp': testdata['timestamp'], \"UTC time\": testdata['UTC time'],\\\n",
    "                               'accuracy': testdata['accuracy'],\\\n",
    "                               'x': testdata['x'].rolling(testwindowavg, min_periods = 1).mean(),\\\n",
    "                               'y': testdata['y'].rolling(testwindowavg, min_periods = 1).mean(), \\\n",
    "                               'z': testdata['z'].rolling(testwindowavg, min_periods = 1).mean() })\n",
    "\n",
    "test_covariates = testdatasmooth[['x','y','z']]\n",
    "\n",
    "classifier = gnb\n",
    "\n",
    "classifier_on_test = classifier.fit(covariates, classification_outcome)\n",
    "classifier_predictions = classifier_on_test.predict(test_covariates)\n",
    "classifier_predictions = pd.Series(classifier_predictions, index = testdata.index)\n",
    "classifier_predictions = classifier_predictions.astype(int)\n",
    "test_labels['label'] = classifier_predictions\n",
    "print(\"--- %s seconds ---\" % (time.time() - start_time))\n"
   ]
  },
  {
   "cell_type": "code",
   "execution_count": 226,
   "metadata": {},
   "outputs": [
    {
     "name": "stdout",
     "output_type": "stream",
     "text": [
      "--- 0.00799417495727539 seconds ---\n"
     ]
    }
   ],
   "source": []
  },
  {
   "cell_type": "code",
   "execution_count": 230,
   "metadata": {},
   "outputs": [],
   "source": [
    "test_labels.to_csv(\"test_labels_filled.csv\")"
   ]
  },
  {
   "cell_type": "code",
   "execution_count": 227,
   "metadata": {},
   "outputs": [
    {
     "data": {
      "image/png": "[encoded data removed]",
      "text/plain": [
       "<Figure size 432x288 with 1 Axes>"
      ]
     },
     "metadata": {
      "needs_background": "light"
     },
     "output_type": "display_data"
    }
   ],
   "source": [
    "plt.plot(test_labels.label); #labels result"
   ]
  },
  {
   "cell_type": "code",
   "execution_count": 228,
   "metadata": {},
   "outputs": [
    {
     "data": {
      "text/html": [
       "<div>\n",
       "<style scoped>\n",
       "    .dataframe tbody tr th:only-of-type {\n",
       "        vertical-align: middle;\n",
       "    }\n",
       "\n",
       "    .dataframe tbody tr th {\n",
       "        vertical-align: top;\n",
       "    }\n",
       "\n",
       "    .dataframe thead th {\n",
       "        text-align: right;\n",
       "    }\n",
       "</style>\n",
       "<table border=\"1\" class=\"dataframe\">\n",
       "  <thead>\n",
       "    <tr style=\"text-align: right;\">\n",
       "      <th></th>\n",
       "      <th>timestamp</th>\n",
       "      <th>UTC time</th>\n",
       "    </tr>\n",
       "    <tr>\n",
       "      <th>label</th>\n",
       "      <th></th>\n",
       "      <th></th>\n",
       "    </tr>\n",
       "  </thead>\n",
       "  <tbody>\n",
       "    <tr>\n",
       "      <th>1</th>\n",
       "      <td>17</td>\n",
       "      <td>17</td>\n",
       "    </tr>\n",
       "    <tr>\n",
       "      <th>2</th>\n",
       "      <td>50</td>\n",
       "      <td>50</td>\n",
       "    </tr>\n",
       "    <tr>\n",
       "      <th>3</th>\n",
       "      <td>20</td>\n",
       "      <td>20</td>\n",
       "    </tr>\n",
       "    <tr>\n",
       "      <th>4</th>\n",
       "      <td>38</td>\n",
       "      <td>38</td>\n",
       "    </tr>\n",
       "  </tbody>\n",
       "</table>\n",
       "</div>"
      ],
      "text/plain": [
       "       timestamp  UTC time\n",
       "label                     \n",
       "1             17        17\n",
       "2             50        50\n",
       "3             20        20\n",
       "4             38        38"
      ]
     },
     "execution_count": 228,
     "metadata": {},
     "output_type": "execute_result"
    }
   ],
   "source": [
    "test_labels.groupby('label').count() #test results grouping"
   ]
  },
  {
   "cell_type": "code",
   "execution_count": 229,
   "metadata": {},
   "outputs": [
    {
     "data": {
      "text/plain": [
       "array([4, 4, 4, 4, 4, 4, 4, 3, 3, 3, 3, 3, 4, 4, 2, 2, 4, 4, 4, 4, 4, 4,\n",
       "       4, 4, 4, 4, 3, 4, 4, 4, 4, 4, 4, 2, 3, 2, 2, 1, 1, 1, 1, 1, 1, 1,\n",
       "       1, 1, 1, 1, 1, 1, 1, 1, 1, 1, 2, 2, 4, 4, 4, 3, 3, 3, 3, 2, 2, 3,\n",
       "       4, 4, 3, 4, 3, 2, 3, 2, 3, 4, 4, 4, 4, 3, 3, 2, 2, 2, 3, 3, 4, 4,\n",
       "       4, 2, 2, 2, 2, 2, 2, 2, 2, 2, 2, 2, 2, 2, 2, 2, 2, 2, 2, 2, 2, 2,\n",
       "       2, 2, 2, 2, 2, 2, 2, 2, 2, 2, 2, 2, 2, 2, 2])"
      ]
     },
     "execution_count": 229,
     "metadata": {},
     "output_type": "execute_result"
    }
   ],
   "source": [
    "np.array(test_labels['label']) #result"
   ]
  },
  {
   "cell_type": "code",
   "execution_count": 233,
   "metadata": {},
   "outputs": [
    {
     "data": {
      "image/png": "[encoded data removed]",
      "text/plain": [
       "<Figure size 432x288 with 1 Axes>"
      ]
     },
     "metadata": {
      "needs_background": "light"
     },
     "output_type": "display_data"
    }
   ],
   "source": [
    "#original train data before smoothing\n",
    "\n",
    "plt.plot(df['x']);\n",
    "plt.plot(df['y']);\n",
    "plt.plot(df['z']);\n"
   ]
  },
  {
   "cell_type": "code",
   "execution_count": 235,
   "metadata": {},
   "outputs": [
    {
     "data": {
      "image/png": "[encoded data removed]",
      "text/plain": [
       "<Figure size 432x288 with 1 Axes>"
      ]
     },
     "metadata": {
      "needs_background": "light"
     },
     "output_type": "display_data"
    }
   ],
   "source": [
    "#train data after smoothing\n",
    "\n",
    "plt.plot(df_clean['x']);\n",
    "plt.plot(df_clean['y']);\n",
    "plt.plot(df_clean['z']);"
   ]
  },
  {
   "cell_type": "code",
   "execution_count": null,
   "metadata": {},
   "outputs": [],
   "source": []
  },
  {
   "cell_type": "code",
   "execution_count": null,
   "metadata": {},
   "outputs": [],
   "source": []
  },
  {
   "cell_type": "code",
   "execution_count": null,
   "metadata": {},
   "outputs": [],
   "source": []
  },
  {
   "cell_type": "code",
   "execution_count": null,
   "metadata": {},
   "outputs": [],
   "source": []
  },
  {
   "cell_type": "code",
   "execution_count": null,
   "metadata": {},
   "outputs": [],
   "source": []
  },
  {
   "cell_type": "code",
   "execution_count": null,
   "metadata": {},
   "outputs": [],
   "source": []
  },
  {
   "cell_type": "code",
   "execution_count": null,
   "metadata": {},
   "outputs": [],
   "source": []
  },
  {
   "cell_type": "code",
   "execution_count": null,
   "metadata": {},
   "outputs": [],
   "source": []
  },
  {
   "cell_type": "code",
   "execution_count": null,
   "metadata": {},
   "outputs": [],
   "source": []
  },
  {
   "cell_type": "code",
   "execution_count": null,
   "metadata": {},
   "outputs": [],
   "source": []
  },
  {
   "cell_type": "code",
   "execution_count": null,
   "metadata": {},
   "outputs": [],
   "source": []
  },
  {
   "cell_type": "code",
   "execution_count": null,
   "metadata": {},
   "outputs": [],
   "source": []
  },
  {
   "cell_type": "code",
   "execution_count": null,
   "metadata": {},
   "outputs": [],
   "source": []
  },
  {
   "cell_type": "code",
   "execution_count": null,
   "metadata": {},
   "outputs": [],
   "source": []
  },
  {
   "cell_type": "code",
   "execution_count": null,
   "metadata": {},
   "outputs": [],
   "source": []
  }
 ],
 "metadata": {
  "kernelspec": {
   "display_name": "Python 3",
   "language": "python",
   "name": "python3"
  },
  "language_info": {
   "codemirror_mode": {
    "name": "ipython",
    "version": 3
   },
   "file_extension": ".py",
   "mimetype": "text/x-python",
   "name": "python",
   "nbconvert_exporter": "python",
   "pygments_lexer": "ipython3",
   "version": "3.7.0"
  }
 },
 "nbformat": 4,
 "nbformat_minor": 2
}
